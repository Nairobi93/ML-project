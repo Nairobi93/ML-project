{
 "cells": [
  {
   "cell_type": "code",
   "execution_count": 1,
   "id": "4e1c9f59",
   "metadata": {},
   "outputs": [],
   "source": [
    "import numpy as np\n",
    "import pandas as pd"
   ]
  },
  {
   "cell_type": "code",
   "execution_count": 2,
   "id": "b02a7025",
   "metadata": {},
   "outputs": [],
   "source": [
    "x = np.arange(1,99)"
   ]
  },
  {
   "cell_type": "code",
   "execution_count": 3,
   "id": "a567015f",
   "metadata": {},
   "outputs": [
    {
     "data": {
      "text/plain": [
       "array([ 1,  2,  3,  4,  5,  6,  7,  8,  9, 10, 11, 12, 13, 14, 15, 16, 17,\n",
       "       18, 19, 20, 21, 22, 23, 24, 25, 26, 27, 28, 29, 30, 31, 32, 33, 34,\n",
       "       35, 36, 37, 38, 39, 40, 41, 42, 43, 44, 45, 46, 47, 48, 49, 50, 51,\n",
       "       52, 53, 54, 55, 56, 57, 58, 59, 60, 61, 62, 63, 64, 65, 66, 67, 68,\n",
       "       69, 70, 71, 72, 73, 74, 75, 76, 77, 78, 79, 80, 81, 82, 83, 84, 85,\n",
       "       86, 87, 88, 89, 90, 91, 92, 93, 94, 95, 96, 97, 98])"
      ]
     },
     "execution_count": 3,
     "metadata": {},
     "output_type": "execute_result"
    }
   ],
   "source": [
    "x"
   ]
  },
  {
   "cell_type": "code",
   "execution_count": 4,
   "id": "3b85ac70",
   "metadata": {},
   "outputs": [],
   "source": [
    "from sklearn.model_selection import train_test_split"
   ]
  },
  {
   "cell_type": "code",
   "execution_count": 5,
   "id": "daa9521d",
   "metadata": {},
   "outputs": [
    {
     "data": {
      "text/plain": [
       "[array([58, 95, 86, 78, 41,  9, 24, 83,  3, 11, 84, 15, 93, 33, 44, 89, 94,\n",
       "        68, 73, 45, 82, 36, 81, 50,  7, 47, 67, 54, 28, 42, 98, 88, 51, 29,\n",
       "        49, 34, 63, 77, 18, 39, 60, 32, 30, 61, 59, 69, 17, 21, 46, 23, 65,\n",
       "        97,  8, 92, 37,  4,  5,  2, 13, 31,  1, 56, 57, 75, 20, 91, 10, 27]),\n",
       " array([35, 26, 38, 48, 87, 12, 53, 52, 70, 25,  6, 71, 62, 16, 66, 40, 64,\n",
       "        72, 14, 90, 85, 43, 22, 55, 19, 80, 76, 96, 79, 74])]"
      ]
     },
     "execution_count": 5,
     "metadata": {},
     "output_type": "execute_result"
    }
   ],
   "source": [
    "train_test_split(x, test_size=0.3)"
   ]
  },
  {
   "cell_type": "code",
   "execution_count": null,
   "id": "f15654fc",
   "metadata": {},
   "outputs": [],
   "source": []
  }
 ],
 "metadata": {
  "kernelspec": {
   "display_name": "Python 3 (ipykernel)",
   "language": "python",
   "name": "python3"
  },
  "language_info": {
   "codemirror_mode": {
    "name": "ipython",
    "version": 3
   },
   "file_extension": ".py",
   "mimetype": "text/x-python",
   "name": "python",
   "nbconvert_exporter": "python",
   "pygments_lexer": "ipython3",
   "version": "3.9.12"
  }
 },
 "nbformat": 4,
 "nbformat_minor": 5
}
